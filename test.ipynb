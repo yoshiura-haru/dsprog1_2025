{
 "cells": [
  {
   "cell_type": "code",
   "execution_count": 1,
   "id": "f11b66e7",
   "metadata": {},
   "outputs": [],
   "source": [
    "# webスクレイピングに最低限必要なライブラリをインポート\n",
    "import requests\n",
    "from bs4 import BeautifulSoup"
   ]
  },
  {
   "cell_type": "markdown",
   "id": "813f8c22",
   "metadata": {},
   "source": [
    "# HTTPリクエスト\n",
    "## 基本のリクエスト"
   ]
  },
  {
   "cell_type": "code",
   "execution_count": 25,
   "id": "b9fc1f39",
   "metadata": {},
   "outputs": [],
   "source": [
    "# アクセスしたいWebサイトのURLを指定\n",
    "url = 'https://www.musashino-u.ac.jp/'\n",
    "\n",
    "# WebサーバーにHTTPリクエストを送信\n",
    "# レスポンスを変数に格納しておく\n",
    "res = requests.get(url)"
   ]
  },
  {
   "cell_type": "code",
   "execution_count": null,
   "id": "7e1711a8",
   "metadata": {},
   "outputs": [],
   "source": [
    "print(f\"レスポンス：{res}\")  # レスポンスオブジェクトを表示\n",
    "print(f\"レスポンスの型：{type(res)}\")  # レスポンスオブジェクトの型を表示\n",
    "print(f\"ステータスコード：{res.status_code}\")  # ステータスコードを表示\n",
    "print(f\"ステータスメッセージ：{res.reason}\")  # ステータスメッセージを表示\n",
    "\n",
    "print(f\"リクエスト:{res.request}\")  # リクエストオブジェクトを表示\n",
    "print(f\"リクエストの型：{type(res.request)}\")  # リクエストオブジェクトの型を表示\n",
    "print(f\"リクエストヘッダー：{res.request.headers}\")  # リクエストヘッダーを表示\n",
    "print(f\"リクエストメソッド：{res.request.method}\")  # リクエストメソッドを表示\n",
    "print(f\"リクエストURL：{res.request.url}\")  # リクエストURLを表示"
   ]
  },
  {
   "cell_type": "code",
   "execution_count": null,
   "id": "8f0c953f",
   "metadata": {},
   "outputs": [],
   "source": [
    "# レスポンス\n",
    "print(f\"レスポンスヘッダー：{res.headers}\")  # レスポンスヘッダーを表示\n",
    "print(f\"レスポンスボディ：{res.text}\")  # レスポンスボディを表示"
   ]
  },
  {
   "cell_type": "markdown",
   "id": "349f06fc",
   "metadata": {},
   "source": [
    "## パラメータ付きのリクエスト"
   ]
  },
  {
   "cell_type": "code",
   "execution_count": 28,
   "id": "876252fe",
   "metadata": {},
   "outputs": [
    {
     "ename": "NameError",
     "evalue": "name 'headers' is not defined",
     "output_type": "error",
     "traceback": [
      "\u001b[31m---------------------------------------------------------------------------\u001b[39m",
      "\u001b[31mNameError\u001b[39m                                 Traceback (most recent call last)",
      "\u001b[36mCell\u001b[39m\u001b[36m \u001b[39m\u001b[32mIn[28]\u001b[39m\u001b[32m, line 6\u001b[39m\n\u001b[32m      2\u001b[39m url = \u001b[33m\"\u001b[39m\u001b[33mhttps://www.musashino-u.ac.jp/search.html\u001b[39m\u001b[33m\"\u001b[39m\n\u001b[32m      3\u001b[39m params = {\n\u001b[32m      4\u001b[39m     \u001b[33m'\u001b[39m\u001b[33mquery\u001b[39m\u001b[33m'\u001b[39m: \u001b[33m'\u001b[39m\u001b[33mデータサイエンス\u001b[39m\u001b[33m'\u001b[39m\n\u001b[32m      5\u001b[39m }\n\u001b[32m----> \u001b[39m\u001b[32m6\u001b[39m res = requests.get(url, headers=\u001b[43mheaders\u001b[49m, params=params)\n\u001b[32m      7\u001b[39m res.encoding = res.apparent_encoding  \u001b[38;5;66;03m# レスポンスのエンコーディングを設定\u001b[39;00m\n\u001b[32m      8\u001b[39m \u001b[38;5;28mprint\u001b[39m(\u001b[33mf\u001b[39m\u001b[33m\"\u001b[39m\u001b[33mステータスコード：\u001b[39m\u001b[38;5;132;01m{\u001b[39;00mres.status_code\u001b[38;5;132;01m}\u001b[39;00m\u001b[33m\"\u001b[39m)  \u001b[38;5;66;03m# ステータスコードを表示\u001b[39;00m\n",
      "\u001b[31mNameError\u001b[39m: name 'headers' is not defined"
     ]
    }
   ],
   "source": [
    "#url = \"https://www.musashino-u.ac.jp/search.html?query=データサイエンス\"\n",
    "url = \"https://www.musashino-u.ac.jp/search.html\"\n",
    "params = {\n",
    "    'query': 'データサイエンス'\n",
    "}\n",
    "res = requests.get(url, headers=headers, params=params)\n",
    "res.encoding = res.apparent_encoding  # レスポンスのエンコーディングを設定\n",
    "print(f\"ステータスコード：{res.status_code}\")  # ステータスコードを表示\n",
    "print(f\"レスポンスボディ：{res.text}\")  # レスポンスボディを表示"
   ]
  },
  {
   "cell_type": "markdown",
   "id": "f861db1e",
   "metadata": {},
   "source": [
    "## BeautifulSoupでHTMLソースから任意の情報を取得する"
   ]
  },
  {
   "cell_type": "code",
   "execution_count": 29,
   "id": "43d2ab99",
   "metadata": {},
   "outputs": [
    {
     "ename": "NameError",
     "evalue": "name 'headers' is not defined",
     "output_type": "error",
     "traceback": [
      "\u001b[31m---------------------------------------------------------------------------\u001b[39m",
      "\u001b[31mNameError\u001b[39m                                 Traceback (most recent call last)",
      "\u001b[36mCell\u001b[39m\u001b[36m \u001b[39m\u001b[32mIn[29]\u001b[39m\u001b[32m, line 2\u001b[39m\n\u001b[32m      1\u001b[39m url = \u001b[33m\"\u001b[39m\u001b[33mhttps://www.musashino-u.ac.jp/\u001b[39m\u001b[33m\"\u001b[39m\n\u001b[32m----> \u001b[39m\u001b[32m2\u001b[39m res = requests.get(url, headers=\u001b[43mheaders\u001b[49m)\n\u001b[32m      3\u001b[39m res.encoding = res.apparent_encoding  \u001b[38;5;66;03m# レスポンスのエンコーディング\u001b[39;00m\n\u001b[32m      4\u001b[39m \u001b[38;5;28mprint\u001b[39m(\u001b[33mf\u001b[39m\u001b[33m\"\u001b[39m\u001b[33mステータスコード：\u001b[39m\u001b[38;5;132;01m{\u001b[39;00mres.status_code\u001b[38;5;132;01m}\u001b[39;00m\u001b[33m\"\u001b[39m)  \u001b[38;5;66;03m# ステータスコードを表示\u001b[39;00m\n",
      "\u001b[31mNameError\u001b[39m: name 'headers' is not defined"
     ]
    }
   ],
   "source": [
    "url = \"https://www.musashino-u.ac.jp/\"\n",
    "res = requests.get(url, headers=headers)\n",
    "res.encoding = res.apparent_encoding  # レスポンスのエンコーディング\n",
    "print(f\"ステータスコード：{res.status_code}\")  # ステータスコードを表示\n"
   ]
  },
  {
   "cell_type": "code",
   "execution_count": 30,
   "id": "1b976274",
   "metadata": {},
   "outputs": [
    {
     "name": "stdout",
     "output_type": "stream",
     "text": [
      "soupの型：<class 'bs4.BeautifulSoup'>\n"
     ]
    }
   ],
   "source": [
    "# HTMLのソースコードを解析\n",
    "soup = BeautifulSoup(res.text, 'html.parser')\n",
    "print(f\"soupの型：{type(soup)}\")  # soupオブジェクトの型を表示"
   ]
  },
  {
   "cell_type": "code",
   "execution_count": null,
   "id": "8c503929",
   "metadata": {},
   "outputs": [
    {
     "name": "stdout",
     "output_type": "stream",
     "text": [
      "<a>タグ：<a href=\"#main\">\n",
      "\t\t\t\t\tãã®ãã¼ã¸ã®æ¬æã¸ç§»å\n",
      "\t\t\t\t</a>\n",
      "<a>タグの型：<class 'bs4.element.Tag'>\n"
     ]
    }
   ],
   "source": [
    "# ソースコード全体から<a>タグを抽出\n",
    "soup_a = soup.a\n",
    "print(f\"<a>タグ：{soup_a}\")  # 抽出した<a>タグを表示\n",
    "print(f\"<a>タグの型：{type(soup_a)}\")  # 抽出した<a>タグの型を表示\n",
    "\n",
    "# "
   ]
  },
  {
   "cell_type": "code",
   "execution_count": 33,
   "id": "2cbb23ce",
   "metadata": {},
   "outputs": [
    {
     "name": "stdout",
     "output_type": "stream",
     "text": [
      "<div>タグの中の<div>タグ：<div class=\"c-skip\">\n",
      "<a href=\"#main\">\n",
      "\t\t\t\t\tãã®ãã¼ã¸ã®æ¬æã¸ç§»å\n",
      "\t\t\t\t</a>\n",
      "</div>\n",
      "<div>タグの中の<div>タグの型：<class 'bs4.element.Tag'>\n"
     ]
    }
   ],
   "source": [
    "#　ソースコード全体から<div>タグを抽出\n",
    "soup_div = soup.div\n",
    "#print(f\"<div>タグ：{soup_div}\")  # 抽出した<div>タグを表示\n",
    "#print(f\"<div>タグの型：{type(soup_div)}\")  # 抽出した<div>タグの型を表示\n",
    "\n",
    "soup_divs_div = soup_div.div\n",
    "print(f\"<div>タグの中の<div>タグ：{soup_divs_div}\")  # 抽出した<div>タグの中の<div>タグを表示\n",
    "print(f\"<div>タグの中の<div>タグの型：{type(soup_divs_div)}\")  # 抽出した<div>タグの中の<div>タグの型"
   ]
  },
  {
   "cell_type": "code",
   "execution_count": 34,
   "id": "aec39b85",
   "metadata": {},
   "outputs": [
    {
     "name": "stdout",
     "output_type": "stream",
     "text": [
      "<div>タグの中の<div>タグ：<div class=\"c-skip\">\n",
      "<a href=\"#main\">\n",
      "\t\t\t\t\tãã®ãã¼ã¸ã®æ¬æã¸ç§»å\n",
      "\t\t\t\t</a>\n",
      "</div>\n",
      "<div>タグの中の<div>タグの型：<class 'bs4.element.Tag'>\n"
     ]
    }
   ],
   "source": [
    "soup_div_div = soup.div.div\n",
    "print(f\"<div>タグの中の<div>タグ：{soup_div_div}\")  # 抽出した<div>タグの中の<div>タグを表示\n",
    "print(f\"<div>タグの中の<div>タグの型：{type(soup_div_div)}\")  # 抽出した<div>タグの中の<div>タグの型"
   ]
  },
  {
   "cell_type": "code",
   "execution_count": 36,
   "id": "602874e6",
   "metadata": {},
   "outputs": [
    {
     "name": "stdout",
     "output_type": "stream",
     "text": [
      "<a>タグのテキスト：\n",
      "\t\t\t\t\tãã®ãã¼ã¸ã®æ¬æã¸ç§»å\n",
      "\t\t\t\t\n",
      "<div>タグ内の<dig>タグのテキスト：None\n"
     ]
    }
   ],
   "source": [
    "# Tagオブジェクト.stringでタグ内のテキストを取得できる\n",
    "print(f\"<a>タグのテキスト：{soup_a.string}\")  # <a>タグ内のテキストを表示\n",
    "\n",
    "print(f\"<div>タグ内の<dig>タグのテキスト：{soup_div_div.string}\") # <dig>タグ内のテキストを表示"
   ]
  }
 ],
 "metadata": {
  "kernelspec": {
   "display_name": ".venv",
   "language": "python",
   "name": "python3"
  },
  "language_info": {
   "codemirror_mode": {
    "name": "ipython",
    "version": 3
   },
   "file_extension": ".py",
   "mimetype": "text/x-python",
   "name": "python",
   "nbconvert_exporter": "python",
   "pygments_lexer": "ipython3",
   "version": "3.12.12"
  }
 },
 "nbformat": 4,
 "nbformat_minor": 5
}
